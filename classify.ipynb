{
 "cells": [
  {
   "cell_type": "markdown",
   "metadata": {},
   "source": [
    "# Lab 1: Classification of Car Acitivity via scikit-learn"
   ]
  },
  {
   "cell_type": "markdown",
   "metadata": {},
   "source": [
    "### by Michael Tang, Woorin Jang, Alan Chen"
   ]
  },
  {
   "cell_type": "markdown",
   "metadata": {},
   "source": [
    "This is Team 2 (WAM)'s implementation of Lab 1, predicting the type of activity of a car given its trace data. This was implemented by organizing the training set - trace data gathered by the class during lab sessions - into dataframes and creating features to be fed into a K Nearest Neighbors classifier. This classifier was imported from the scikit-learn package, and predicts classification of trace data based on the classifications of its \"nearest neighbors\". The number of neighbors has been tuned to 5 after testing of what gives the highest accuracy. The features as well have been engineered based on what promotes the most accurate classification. At the end, our predicted classifications for the files we were given are outputted after training the model over all class-given data in the activitydataset folder."
   ]
  },
  {
   "cell_type": "code",
   "execution_count": 1,
   "metadata": {},
   "outputs": [],
   "source": [
    "import numpy as np, pandas as pd, json\n",
    "from sklearn.neighbors import KNeighborsClassifier"
   ]
  },
  {
   "cell_type": "markdown",
   "metadata": {},
   "source": [
    "## 1. Just checking to see if json loading works"
   ]
  },
  {
   "cell_type": "code",
   "execution_count": 2,
   "metadata": {},
   "outputs": [],
   "source": [
    "with open('activity-dataset-team2/activity-team2-Driving-0.txt', 'r') as f:\n",
    "    d2 = json.loads(f.read().replace('\\'','\\\"'))"
   ]
  },
  {
   "cell_type": "code",
   "execution_count": 3,
   "metadata": {
    "scrolled": true
   },
   "outputs": [
    {
     "data": {
      "text/plain": [
       "{'data': {'xGyro': -46,\n",
       "  'zAccl': 1345,\n",
       "  'yGyro': 34,\n",
       "  'zGyro': -20,\n",
       "  'xAccl': -37,\n",
       "  'xMag': -811,\n",
       "  'yMag': 565,\n",
       "  'zMag': 1287,\n",
       "  'yAccl': 22},\n",
       " 'time': 1522977958.269925}"
      ]
     },
     "execution_count": 3,
     "metadata": {},
     "output_type": "execute_result"
    }
   ],
   "source": [
    "d2['seq'][0]"
   ]
  },
  {
   "cell_type": "markdown",
   "metadata": {},
   "source": [
    "## 2. Function to make a dictionary with mean and std for each trace"
   ]
  },
  {
   "cell_type": "code",
   "execution_count": 4,
   "metadata": {},
   "outputs": [],
   "source": [
    "def makedic(arr):\n",
    "    xAccl, yAccl, zAccl, xGyro, yGyro, zGyro, xMag, yMag, zMag = ([] for i in range(9))\n",
    "    vals = [xAccl, yAccl, zAccl, xGyro, yGyro, zGyro, xMag, yMag, zMag]\n",
    "    for x in range(0, len(arr)):\n",
    "        xAccl.append(arr[x]['data']['xAccl'])\n",
    "        yAccl.append(arr[x]['data']['yAccl'])\n",
    "        zAccl.append(arr[x]['data']['zAccl'])\n",
    "        xGyro.append(arr[x]['data']['xGyro'])\n",
    "        yGyro.append(arr[x]['data']['yGyro'])\n",
    "        zGyro.append(arr[x]['data']['zGyro'])\n",
    "        xMag.append(arr[x]['data']['xMag'])\n",
    "        yMag.append(arr[x]['data']['yMag'])\n",
    "        zMag.append(arr[x]['data']['zMag'])\n",
    "    #for xAccl\n",
    "    tracedata = {'xAmean':np.mean(xAccl), 'xAstd': np.std(xAccl), 'xAmax': np.max(xAccl), 'xAmin': np.min(xAccl),\n",
    "                'yAmean':np.mean(xAccl), 'yAstd': np.std(yAccl), 'yAmax': np.max(yAccl), 'yAmin': np.min(yAccl),\n",
    "                'zAmean':np.mean(zAccl), 'zAstd': np.std(zAccl), 'zAmax':np.max(zAccl), 'zAmin': np.min(zAccl),\n",
    "                'xGmean':np.mean(xGyro), 'xGstd': np.std(xGyro), \n",
    "                'yGmean':np.mean(yGyro), 'yGstd': np.std(yGyro), \n",
    "                'zGmean':np.mean(zGyro), 'zGstd': np.std(zGyro),\n",
    "                'xMmean':np.mean(xMag), 'xMstd': np.std(xMag),\n",
    "                'yMmean':np.mean(yMag), 'yMstd': np.std(yMag), \n",
    "                'zMmean':np.mean(zMag), 'zMstd': np.std(zMag)} \n",
    "    return tracedata\n",
    "    "
   ]
  },
  {
   "cell_type": "markdown",
   "metadata": {},
   "source": [
    "## 3. Testing to see how well k-neighbors works"
   ]
  },
  {
   "cell_type": "markdown",
   "metadata": {},
   "source": [
    "First, we gather classifications off of a subset of the already labeled datasets provided in /activitydataset. We then test the k-neighbors classifier for accuracy on the cross-validation set, the portion of the dataset not used for training."
   ]
  },
  {
   "cell_type": "markdown",
   "metadata": {},
   "source": [
    "### Driving"
   ]
  },
  {
   "cell_type": "code",
   "execution_count": 5,
   "metadata": {},
   "outputs": [
    {
     "data": {
      "text/html": [
       "<div>\n",
       "<style scoped>\n",
       "    .dataframe tbody tr th:only-of-type {\n",
       "        vertical-align: middle;\n",
       "    }\n",
       "\n",
       "    .dataframe tbody tr th {\n",
       "        vertical-align: top;\n",
       "    }\n",
       "\n",
       "    .dataframe thead th {\n",
       "        text-align: right;\n",
       "    }\n",
       "</style>\n",
       "<table border=\"1\" class=\"dataframe\">\n",
       "  <thead>\n",
       "    <tr style=\"text-align: right;\">\n",
       "      <th></th>\n",
       "      <th>xAmean</th>\n",
       "      <th>xAstd</th>\n",
       "      <th>xAmax</th>\n",
       "      <th>xAmin</th>\n",
       "      <th>yAmean</th>\n",
       "      <th>yAstd</th>\n",
       "      <th>yAmax</th>\n",
       "      <th>yAmin</th>\n",
       "      <th>zAmean</th>\n",
       "      <th>zAstd</th>\n",
       "      <th>...</th>\n",
       "      <th>yGmean</th>\n",
       "      <th>yGstd</th>\n",
       "      <th>zGmean</th>\n",
       "      <th>zGstd</th>\n",
       "      <th>xMmean</th>\n",
       "      <th>xMstd</th>\n",
       "      <th>yMmean</th>\n",
       "      <th>yMstd</th>\n",
       "      <th>zMmean</th>\n",
       "      <th>zMstd</th>\n",
       "    </tr>\n",
       "  </thead>\n",
       "  <tbody>\n",
       "    <tr>\n",
       "      <th>0</th>\n",
       "      <td>-51.414117</td>\n",
       "      <td>129.54913</td>\n",
       "      <td>827</td>\n",
       "      <td>-885</td>\n",
       "      <td>-51.414117</td>\n",
       "      <td>111.381485</td>\n",
       "      <td>358</td>\n",
       "      <td>-454</td>\n",
       "      <td>1360.616891</td>\n",
       "      <td>157.636691</td>\n",
       "      <td>...</td>\n",
       "      <td>31.245614</td>\n",
       "      <td>64.794437</td>\n",
       "      <td>426.650347</td>\n",
       "      <td>621.266768</td>\n",
       "      <td>-754.173807</td>\n",
       "      <td>750.436151</td>\n",
       "      <td>516.290902</td>\n",
       "      <td>616.390633</td>\n",
       "      <td>877.036312</td>\n",
       "      <td>1336.391115</td>\n",
       "    </tr>\n",
       "  </tbody>\n",
       "</table>\n",
       "<p>1 rows × 24 columns</p>\n",
       "</div>"
      ],
      "text/plain": [
       "      xAmean      xAstd  xAmax  xAmin     yAmean       yAstd  yAmax  yAmin  \\\n",
       "0 -51.414117  129.54913    827   -885 -51.414117  111.381485    358   -454   \n",
       "\n",
       "        zAmean       zAstd     ...          yGmean      yGstd      zGmean  \\\n",
       "0  1360.616891  157.636691     ...       31.245614  64.794437  426.650347   \n",
       "\n",
       "        zGstd      xMmean       xMstd      yMmean       yMstd      zMmean  \\\n",
       "0  621.266768 -754.173807  750.436151  516.290902  616.390633  877.036312   \n",
       "\n",
       "         zMstd  \n",
       "0  1336.391115  \n",
       "\n",
       "[1 rows x 24 columns]"
      ]
     },
     "execution_count": 5,
     "metadata": {},
     "output_type": "execute_result"
    }
   ],
   "source": [
    "with open('activity-dataset-team2/activity-team2-Driving-0.txt', 'r') as f:\n",
    "    dr = json.loads(f.read().replace('\\'','\\\"'))['seq']\n",
    "with open('activity-dataset-team2/activity-team2-Driving-1.txt', 'r') as f:\n",
    "    dr.extend(json.loads(f.read().replace('\\'','\\\"'))['seq'])\n",
    "dr = makedic(dr)\n",
    "drdf = pd.DataFrame(dr, index=[0])\n",
    "drdf"
   ]
  },
  {
   "cell_type": "markdown",
   "metadata": {},
   "source": [
    "### Jumping"
   ]
  },
  {
   "cell_type": "code",
   "execution_count": 6,
   "metadata": {},
   "outputs": [
    {
     "data": {
      "text/html": [
       "<div>\n",
       "<style scoped>\n",
       "    .dataframe tbody tr th:only-of-type {\n",
       "        vertical-align: middle;\n",
       "    }\n",
       "\n",
       "    .dataframe tbody tr th {\n",
       "        vertical-align: top;\n",
       "    }\n",
       "\n",
       "    .dataframe thead th {\n",
       "        text-align: right;\n",
       "    }\n",
       "</style>\n",
       "<table border=\"1\" class=\"dataframe\">\n",
       "  <thead>\n",
       "    <tr style=\"text-align: right;\">\n",
       "      <th></th>\n",
       "      <th>xAmean</th>\n",
       "      <th>xAstd</th>\n",
       "      <th>xAmax</th>\n",
       "      <th>xAmin</th>\n",
       "      <th>yAmean</th>\n",
       "      <th>yAstd</th>\n",
       "      <th>yAmax</th>\n",
       "      <th>yAmin</th>\n",
       "      <th>zAmean</th>\n",
       "      <th>zAstd</th>\n",
       "      <th>...</th>\n",
       "      <th>yGmean</th>\n",
       "      <th>yGstd</th>\n",
       "      <th>zGmean</th>\n",
       "      <th>zGstd</th>\n",
       "      <th>xMmean</th>\n",
       "      <th>xMstd</th>\n",
       "      <th>yMmean</th>\n",
       "      <th>yMstd</th>\n",
       "      <th>zMmean</th>\n",
       "      <th>zMstd</th>\n",
       "    </tr>\n",
       "  </thead>\n",
       "  <tbody>\n",
       "    <tr>\n",
       "      <th>0</th>\n",
       "      <td>-8.391252</td>\n",
       "      <td>354.585565</td>\n",
       "      <td>1706</td>\n",
       "      <td>-1005</td>\n",
       "      <td>-8.391252</td>\n",
       "      <td>485.966722</td>\n",
       "      <td>3272</td>\n",
       "      <td>-1752</td>\n",
       "      <td>1332.615109</td>\n",
       "      <td>1662.89636</td>\n",
       "      <td>...</td>\n",
       "      <td>23.081511</td>\n",
       "      <td>624.913342</td>\n",
       "      <td>-63.837773</td>\n",
       "      <td>961.509663</td>\n",
       "      <td>-674.386083</td>\n",
       "      <td>171.739032</td>\n",
       "      <td>303.003181</td>\n",
       "      <td>287.85601</td>\n",
       "      <td>378.735586</td>\n",
       "      <td>122.848377</td>\n",
       "    </tr>\n",
       "  </tbody>\n",
       "</table>\n",
       "<p>1 rows × 24 columns</p>\n",
       "</div>"
      ],
      "text/plain": [
       "     xAmean       xAstd  xAmax  xAmin    yAmean       yAstd  yAmax  yAmin  \\\n",
       "0 -8.391252  354.585565   1706  -1005 -8.391252  485.966722   3272  -1752   \n",
       "\n",
       "        zAmean       zAstd     ...         yGmean       yGstd     zGmean  \\\n",
       "0  1332.615109  1662.89636     ...      23.081511  624.913342 -63.837773   \n",
       "\n",
       "        zGstd      xMmean       xMstd      yMmean      yMstd      zMmean  \\\n",
       "0  961.509663 -674.386083  171.739032  303.003181  287.85601  378.735586   \n",
       "\n",
       "        zMstd  \n",
       "0  122.848377  \n",
       "\n",
       "[1 rows x 24 columns]"
      ]
     },
     "execution_count": 6,
     "metadata": {},
     "output_type": "execute_result"
    }
   ],
   "source": [
    "with open('activity-dataset-team2/activity-team2-Jumping-0.txt', 'r') as f:\n",
    "    jp = json.loads(f.read().replace('\\'','\\\"'))['seq']\n",
    "with open('activity-dataset-team2/activity-team2-Jumping-1.txt', 'r') as f:\n",
    "    jp.extend(json.loads(f.read().replace('\\'','\\\"'))['seq'])\n",
    "jp = makedic(jp)\n",
    "jpdf = pd.DataFrame(jp, index=[0])\n",
    "jpdf"
   ]
  },
  {
   "cell_type": "markdown",
   "metadata": {},
   "source": [
    "### Standing"
   ]
  },
  {
   "cell_type": "code",
   "execution_count": 7,
   "metadata": {},
   "outputs": [
    {
     "data": {
      "text/html": [
       "<div>\n",
       "<style scoped>\n",
       "    .dataframe tbody tr th:only-of-type {\n",
       "        vertical-align: middle;\n",
       "    }\n",
       "\n",
       "    .dataframe tbody tr th {\n",
       "        vertical-align: top;\n",
       "    }\n",
       "\n",
       "    .dataframe thead th {\n",
       "        text-align: right;\n",
       "    }\n",
       "</style>\n",
       "<table border=\"1\" class=\"dataframe\">\n",
       "  <thead>\n",
       "    <tr style=\"text-align: right;\">\n",
       "      <th></th>\n",
       "      <th>xAmean</th>\n",
       "      <th>xAstd</th>\n",
       "      <th>xAmax</th>\n",
       "      <th>xAmin</th>\n",
       "      <th>yAmean</th>\n",
       "      <th>yAstd</th>\n",
       "      <th>yAmax</th>\n",
       "      <th>yAmin</th>\n",
       "      <th>zAmean</th>\n",
       "      <th>zAstd</th>\n",
       "      <th>...</th>\n",
       "      <th>yGmean</th>\n",
       "      <th>yGstd</th>\n",
       "      <th>zGmean</th>\n",
       "      <th>zGstd</th>\n",
       "      <th>xMmean</th>\n",
       "      <th>xMstd</th>\n",
       "      <th>yMmean</th>\n",
       "      <th>yMstd</th>\n",
       "      <th>zMmean</th>\n",
       "      <th>zMstd</th>\n",
       "    </tr>\n",
       "  </thead>\n",
       "  <tbody>\n",
       "    <tr>\n",
       "      <th>0</th>\n",
       "      <td>19.451783</td>\n",
       "      <td>55.49351</td>\n",
       "      <td>255</td>\n",
       "      <td>-255</td>\n",
       "      <td>19.451783</td>\n",
       "      <td>79.704167</td>\n",
       "      <td>332</td>\n",
       "      <td>-255</td>\n",
       "      <td>1356.899514</td>\n",
       "      <td>33.898152</td>\n",
       "      <td>...</td>\n",
       "      <td>34.09846</td>\n",
       "      <td>87.401422</td>\n",
       "      <td>-27.44611</td>\n",
       "      <td>114.613472</td>\n",
       "      <td>-730.020259</td>\n",
       "      <td>53.980844</td>\n",
       "      <td>879.023906</td>\n",
       "      <td>52.752855</td>\n",
       "      <td>473.672204</td>\n",
       "      <td>21.300845</td>\n",
       "    </tr>\n",
       "  </tbody>\n",
       "</table>\n",
       "<p>1 rows × 24 columns</p>\n",
       "</div>"
      ],
      "text/plain": [
       "      xAmean     xAstd  xAmax  xAmin     yAmean      yAstd  yAmax  yAmin  \\\n",
       "0  19.451783  55.49351    255   -255  19.451783  79.704167    332   -255   \n",
       "\n",
       "        zAmean      zAstd    ...        yGmean      yGstd    zGmean  \\\n",
       "0  1356.899514  33.898152    ...      34.09846  87.401422 -27.44611   \n",
       "\n",
       "        zGstd      xMmean      xMstd      yMmean      yMstd      zMmean  \\\n",
       "0  114.613472 -730.020259  53.980844  879.023906  52.752855  473.672204   \n",
       "\n",
       "       zMstd  \n",
       "0  21.300845  \n",
       "\n",
       "[1 rows x 24 columns]"
      ]
     },
     "execution_count": 7,
     "metadata": {},
     "output_type": "execute_result"
    }
   ],
   "source": [
    "with open('activity-dataset-team2/activity-team2-Standing-0.txt', 'r') as f:\n",
    "    st = json.loads(f.read().replace('\\'','\\\"'))['seq']\n",
    "with open('activity-dataset-team2/activity-team2-Standing-1.txt', 'r') as f:\n",
    "    st.extend(json.loads(f.read().replace('\\'','\\\"'))['seq'])\n",
    "st = makedic(st)\n",
    "stdf = pd.DataFrame(st, index=[0])\n",
    "stdf"
   ]
  },
  {
   "cell_type": "markdown",
   "metadata": {},
   "source": [
    "### Walking"
   ]
  },
  {
   "cell_type": "code",
   "execution_count": 8,
   "metadata": {},
   "outputs": [
    {
     "data": {
      "text/html": [
       "<div>\n",
       "<style scoped>\n",
       "    .dataframe tbody tr th:only-of-type {\n",
       "        vertical-align: middle;\n",
       "    }\n",
       "\n",
       "    .dataframe tbody tr th {\n",
       "        vertical-align: top;\n",
       "    }\n",
       "\n",
       "    .dataframe thead th {\n",
       "        text-align: right;\n",
       "    }\n",
       "</style>\n",
       "<table border=\"1\" class=\"dataframe\">\n",
       "  <thead>\n",
       "    <tr style=\"text-align: right;\">\n",
       "      <th></th>\n",
       "      <th>xAmean</th>\n",
       "      <th>xAstd</th>\n",
       "      <th>xAmax</th>\n",
       "      <th>xAmin</th>\n",
       "      <th>yAmean</th>\n",
       "      <th>yAstd</th>\n",
       "      <th>yAmax</th>\n",
       "      <th>yAmin</th>\n",
       "      <th>zAmean</th>\n",
       "      <th>zAstd</th>\n",
       "      <th>...</th>\n",
       "      <th>yGmean</th>\n",
       "      <th>yGstd</th>\n",
       "      <th>zGmean</th>\n",
       "      <th>zGstd</th>\n",
       "      <th>xMmean</th>\n",
       "      <th>xMstd</th>\n",
       "      <th>yMmean</th>\n",
       "      <th>yMstd</th>\n",
       "      <th>zMmean</th>\n",
       "      <th>zMstd</th>\n",
       "    </tr>\n",
       "  </thead>\n",
       "  <tbody>\n",
       "    <tr>\n",
       "      <th>0</th>\n",
       "      <td>65.973144</td>\n",
       "      <td>140.995118</td>\n",
       "      <td>536</td>\n",
       "      <td>-332</td>\n",
       "      <td>65.973144</td>\n",
       "      <td>188.030296</td>\n",
       "      <td>580</td>\n",
       "      <td>-762</td>\n",
       "      <td>1347.898104</td>\n",
       "      <td>266.623821</td>\n",
       "      <td>...</td>\n",
       "      <td>53.955371</td>\n",
       "      <td>391.73579</td>\n",
       "      <td>-191.927725</td>\n",
       "      <td>916.578835</td>\n",
       "      <td>-818.471169</td>\n",
       "      <td>361.388971</td>\n",
       "      <td>487.629542</td>\n",
       "      <td>217.105789</td>\n",
       "      <td>297.317141</td>\n",
       "      <td>154.612902</td>\n",
       "    </tr>\n",
       "  </tbody>\n",
       "</table>\n",
       "<p>1 rows × 24 columns</p>\n",
       "</div>"
      ],
      "text/plain": [
       "      xAmean       xAstd  xAmax  xAmin     yAmean       yAstd  yAmax  yAmin  \\\n",
       "0  65.973144  140.995118    536   -332  65.973144  188.030296    580   -762   \n",
       "\n",
       "        zAmean       zAstd     ...         yGmean      yGstd      zGmean  \\\n",
       "0  1347.898104  266.623821     ...      53.955371  391.73579 -191.927725   \n",
       "\n",
       "        zGstd      xMmean       xMstd      yMmean       yMstd      zMmean  \\\n",
       "0  916.578835 -818.471169  361.388971  487.629542  217.105789  297.317141   \n",
       "\n",
       "        zMstd  \n",
       "0  154.612902  \n",
       "\n",
       "[1 rows x 24 columns]"
      ]
     },
     "execution_count": 8,
     "metadata": {},
     "output_type": "execute_result"
    }
   ],
   "source": [
    "with open('activity-dataset-team2/activity-team2-Walking-0.txt', 'r') as f:\n",
    "    wk = json.loads(f.read().replace('\\'','\\\"'))['seq']\n",
    "with open('activity-dataset-team2/activity-team2-Walking-1.txt', 'r') as f:\n",
    "    wk.extend(json.loads(f.read().replace('\\'','\\\"'))['seq'])\n",
    "wk = makedic(wk)\n",
    "wkdf = pd.DataFrame(wk, index=[0])\n",
    "wkdf"
   ]
  },
  {
   "cell_type": "markdown",
   "metadata": {},
   "source": [
    "### Adding cumulative data (16-28) to training"
   ]
  },
  {
   "cell_type": "markdown",
   "metadata": {},
   "source": [
    "#### Loading cumulative datasets"
   ]
  },
  {
   "cell_type": "code",
   "execution_count": 9,
   "metadata": {},
   "outputs": [],
   "source": [
    "with open('activitydataset/activity-dataset-Driving.txt', 'r') as f:\n",
    "    dr = json.loads(f.read().replace('\\'','\\\"'))\n",
    "drcum = [] #an array of dictionaries, each dic containing info for one trace\n",
    "for x in range(20, len(dr)):\n",
    "    trace = dr[x]['seq']\n",
    "    drdic = makedic(trace)\n",
    "    drdic['class'] = 0\n",
    "    drcum.append(drdic) \n",
    "drcumdf = pd.DataFrame(drcum)"
   ]
  },
  {
   "cell_type": "code",
   "execution_count": 10,
   "metadata": {},
   "outputs": [],
   "source": [
    "with open('activitydataset/activity-dataset-Jumping.txt', 'r') as f:\n",
    "    jp = json.loads(f.read().replace('\\'','\\\"'))\n",
    "jpcum = [] #an array of dictionaries, each dic containing info for one trace\n",
    "for x in range(20, len(jp)):\n",
    "    trace = jp[x]['seq']\n",
    "    jpdic = makedic(trace)\n",
    "    jpdic['class'] = 1\n",
    "    jpcum.append(jpdic) \n",
    "jpcumdf = pd.DataFrame(jpcum)"
   ]
  },
  {
   "cell_type": "code",
   "execution_count": 11,
   "metadata": {},
   "outputs": [],
   "source": [
    "with open('activitydataset/activity-dataset-Standing.txt', 'r') as f:\n",
    "    st = json.loads(f.read().replace('\\'','\\\"'))\n",
    "stcum = [] #an array of dictionaries, each dic containing info for one trace\n",
    "for x in range(20, len(st)):\n",
    "    trace = st[x]['seq']\n",
    "    stdic = makedic(trace)\n",
    "    stdic['class'] = 2\n",
    "    stcum.append(stdic) \n",
    "stcumdf = pd.DataFrame.from_dict(stcum)"
   ]
  },
  {
   "cell_type": "code",
   "execution_count": 12,
   "metadata": {},
   "outputs": [],
   "source": [
    "with open('activitydataset/activity-dataset-Walking.txt', 'r') as f:\n",
    "    wk = json.loads(f.read().replace('\\'','\\\"'))\n",
    "wkcum = [] #an array of dictionaries, each dic containing info for one trace\n",
    "for x in range(20, len(wk)):\n",
    "    trace = wk[x]['seq']\n",
    "    wkdic = makedic(trace)\n",
    "    wkdic['class'] = 3\n",
    "    wkcum.append(wkdic) \n",
    "wkcumdf = pd.DataFrame.from_dict(wkcum)"
   ]
  },
  {
   "cell_type": "code",
   "execution_count": 13,
   "metadata": {},
   "outputs": [],
   "source": [
    "#attach labels\n",
    "drdf['class'] = 0\n",
    "jpdf['class'] = 1\n",
    "stdf['class'] = 2\n",
    "wkdf['class'] = 3\n",
    "#create a super-chungus\n",
    "df = pd.concat([drcumdf, jpcumdf, stcumdf,wkcumdf],sort=False)\n",
    "X = df.iloc[:,:-1]\n",
    "y = df['class']\n",
    "kn = KNeighborsClassifier(n_neighbors=5).fit(X,y)"
   ]
  },
  {
   "cell_type": "markdown",
   "metadata": {},
   "source": [
    "### Testing k-neighbors with class data (1-14)"
   ]
  },
  {
   "cell_type": "markdown",
   "metadata": {},
   "source": [
    "#### Loading cumulative datasets"
   ]
  },
  {
   "cell_type": "code",
   "execution_count": 14,
   "metadata": {},
   "outputs": [],
   "source": [
    "drtest = [] #an array of dictionaries, each dic containing info for one trace\n",
    "for x in range(0, 20):\n",
    "    trace = dr[x]['seq']\n",
    "    drdic = makedic(trace)\n",
    "    drdic['class'] = 0\n",
    "    drtest.append(drdic) \n",
    "drtestdata = pd.DataFrame(drtest)"
   ]
  },
  {
   "cell_type": "code",
   "execution_count": 15,
   "metadata": {},
   "outputs": [],
   "source": [
    "jptest = [] #an array of dictionaries, each dic containing info for one trace\n",
    "for x in range(0,20):\n",
    "    trace = jp[x]['seq']\n",
    "    jpdic = makedic(trace)\n",
    "    jpdic['class'] = 1\n",
    "    jptest.append(jpdic) \n",
    "jptestdata = pd.DataFrame(jptest)"
   ]
  },
  {
   "cell_type": "code",
   "execution_count": 16,
   "metadata": {},
   "outputs": [],
   "source": [
    "sttest = [] #an array of dictionaries, each dic containing info for one trace\n",
    "for x in range(0,20):\n",
    "    trace = st[x]['seq']\n",
    "    stdic = makedic(trace)\n",
    "    stdic['class'] = 2\n",
    "    sttest.append(stdic) \n",
    "sttestdata = pd.DataFrame.from_dict(sttest)"
   ]
  },
  {
   "cell_type": "code",
   "execution_count": 17,
   "metadata": {},
   "outputs": [],
   "source": [
    "wktest = [] #an array of dictionaries, each dic containing info for one trace\n",
    "for x in range(0,20):\n",
    "    trace = wk[x]['seq']\n",
    "    wkdic = makedic(trace)\n",
    "    wkdic['class'] = 3\n",
    "    wktest.append(wkdic) \n",
    "wktestdata = pd.DataFrame.from_dict(wktest)"
   ]
  },
  {
   "cell_type": "code",
   "execution_count": 18,
   "metadata": {},
   "outputs": [],
   "source": [
    "test = pd.concat([drtestdata,jptestdata,sttestdata,wktestdata])"
   ]
  },
  {
   "cell_type": "markdown",
   "metadata": {},
   "source": [
    "#### Testing on cumulative dataset"
   ]
  },
  {
   "cell_type": "code",
   "execution_count": 19,
   "metadata": {},
   "outputs": [
    {
     "name": "stdout",
     "output_type": "stream",
     "text": [
      "Cross-validation accuracy:  0.9\n"
     ]
    }
   ],
   "source": [
    "#output: accuracy\n",
    "print(\"Cross-validation accuracy: \",len(np.where(test['class']==kn.predict(test.iloc[:,:-1]))[0])/len(test['class']))"
   ]
  },
  {
   "cell_type": "markdown",
   "metadata": {},
   "source": [
    "### Predicting Unknown Traces"
   ]
  },
  {
   "cell_type": "markdown",
   "metadata": {},
   "source": [
    "#### First, we re-train our model with the enire class data set."
   ]
  },
  {
   "cell_type": "code",
   "execution_count": 20,
   "metadata": {},
   "outputs": [],
   "source": [
    "with open('activitydataset/activity-dataset-Driving.txt', 'r') as f:\n",
    "    dr = json.loads(f.read().replace('\\'','\\\"'))\n",
    "drcum = [] #an array of dictionaries, each dic containing info for one trace\n",
    "for x in range(0, len(dr)):\n",
    "    trace = dr[x]['seq']\n",
    "    drdic = makedic(trace)\n",
    "    drdic['class'] = 0\n",
    "    drcum.append(drdic) \n",
    "drcumdf = pd.DataFrame(drcum)"
   ]
  },
  {
   "cell_type": "code",
   "execution_count": 21,
   "metadata": {},
   "outputs": [],
   "source": [
    "with open('activitydataset/activity-dataset-Jumping.txt', 'r') as f:\n",
    "    jp = json.loads(f.read().replace('\\'','\\\"'))\n",
    "jpcum = [] #an array of dictionaries, each dic containing info for one trace\n",
    "for x in range(0, len(jp)):\n",
    "    trace = jp[x]['seq']\n",
    "    jpdic = makedic(trace)\n",
    "    jpdic['class'] = 1\n",
    "    jpcum.append(jpdic) \n",
    "jpcumdf = pd.DataFrame(jpcum)"
   ]
  },
  {
   "cell_type": "code",
   "execution_count": 22,
   "metadata": {},
   "outputs": [],
   "source": [
    "with open('activitydataset/activity-dataset-Standing.txt', 'r') as f:\n",
    "    st = json.loads(f.read().replace('\\'','\\\"'))\n",
    "stcum = [] #an array of dictionaries, each dic containing info for one trace\n",
    "for x in range(0, len(st)):\n",
    "    trace = st[x]['seq']\n",
    "    stdic = makedic(trace)\n",
    "    stdic['class'] = 2\n",
    "    stcum.append(stdic) \n",
    "stcumdf = pd.DataFrame.from_dict(stcum)"
   ]
  },
  {
   "cell_type": "code",
   "execution_count": 23,
   "metadata": {},
   "outputs": [],
   "source": [
    "with open('activitydataset/activity-dataset-Walking.txt', 'r') as f:\n",
    "    wk = json.loads(f.read().replace('\\'','\\\"'))\n",
    "wkcum = [] #an array of dictionaries, each dic containing info for one trace\n",
    "for x in range(0, len(wk)):\n",
    "    trace = wk[x]['seq']\n",
    "    #print(trace)\n",
    "    wkdic = makedic(trace)\n",
    "    wkdic['class'] = 3\n",
    "    wkcum.append(wkdic) \n",
    "wkcumdf = pd.DataFrame.from_dict(wkcum)"
   ]
  },
  {
   "cell_type": "code",
   "execution_count": 24,
   "metadata": {},
   "outputs": [],
   "source": [
    "#attach labels\n",
    "drdf['class'] = 0\n",
    "jpdf['class'] = 1\n",
    "stdf['class'] = 2\n",
    "wkdf['class'] = 3\n",
    "#create a super-chungus\n",
    "df = pd.concat([drcumdf, jpcumdf, stcumdf,wkcumdf],sort=False)\n",
    "X = df.iloc[:,:-1]\n",
    "y = df['class']\n",
    "kn = KNeighborsClassifier(n_neighbors=5).fit(X,y)"
   ]
  },
  {
   "cell_type": "markdown",
   "metadata": {},
   "source": [
    "#### Next, we attempt to predict activity for each unknown trace:"
   ]
  },
  {
   "cell_type": "code",
   "execution_count": 25,
   "metadata": {},
   "outputs": [
    {
     "name": "stdout",
     "output_type": "stream",
     "text": [
      "Classifications for test files:\n"
     ]
    }
   ],
   "source": [
    "print(\"Classifications for test files:\")\n",
    "clkey = {0:'driving',1:'jumping',2:'standing',3:'walking'}"
   ]
  },
  {
   "cell_type": "markdown",
   "metadata": {},
   "source": [
    "##### Unknown #1"
   ]
  },
  {
   "cell_type": "code",
   "execution_count": 26,
   "metadata": {},
   "outputs": [
    {
     "name": "stdout",
     "output_type": "stream",
     "text": [
      "team2_1.txt:  walking\n"
     ]
    }
   ],
   "source": [
    "with open('activity-test-dataset/team2_1.txt', 'r') as f:\n",
    "    unknown_trace = json.loads(f.read().replace('\\'','\\\"'))\n",
    "    \n",
    "unknwn= []\n",
    "unknwn_dic = makedic(unknown_trace['seq'])\n",
    "unknwn_dic['class']=-1\n",
    "unknwn.append(unknwn_dic)\n",
    "unk = pd.DataFrame.from_dict(unknwn)\n",
    "print(\"team2_1.txt: \",clkey[kn.predict(unk.iloc[:,:-1])[0]])"
   ]
  },
  {
   "cell_type": "markdown",
   "metadata": {},
   "source": [
    "#### Unknown #2"
   ]
  },
  {
   "cell_type": "code",
   "execution_count": 27,
   "metadata": {},
   "outputs": [
    {
     "name": "stdout",
     "output_type": "stream",
     "text": [
      "team2_2.txt:  standing\n"
     ]
    }
   ],
   "source": [
    "with open('activity-test-dataset/team2_2.txt', 'r') as f:\n",
    "    unknown_trace = json.loads(f.read().replace('\\'','\\\"'))\n",
    "    \n",
    "unknwn= []\n",
    "unknwn_dic = makedic(unknown_trace['seq'])\n",
    "unknwn_dic['class']=-1\n",
    "unknwn.append(unknwn_dic)\n",
    "unk = pd.DataFrame.from_dict(unknwn)\n",
    "print(\"team2_2.txt: \",clkey[kn.predict(unk.iloc[:,:-1])[0]])"
   ]
  },
  {
   "cell_type": "markdown",
   "metadata": {},
   "source": [
    "#### Unknown #3"
   ]
  },
  {
   "cell_type": "code",
   "execution_count": 28,
   "metadata": {},
   "outputs": [
    {
     "name": "stdout",
     "output_type": "stream",
     "text": [
      "team2_3.txt:  walking\n"
     ]
    }
   ],
   "source": [
    "with open('activity-test-dataset/team2_3.txt', 'r') as f:\n",
    "    unknown_trace = json.loads(f.read().replace('\\'','\\\"'))\n",
    "    \n",
    "unknwn= []\n",
    "unknwn_dic = makedic(unknown_trace['seq'])\n",
    "unknwn_dic['class']=-1\n",
    "unknwn.append(unknwn_dic)\n",
    "unk = pd.DataFrame.from_dict(unknwn)\n",
    "print(\"team2_3.txt: \",clkey[kn.predict(unk.iloc[:,:-1])[0]])"
   ]
  },
  {
   "cell_type": "markdown",
   "metadata": {},
   "source": [
    "#### Unknown #4"
   ]
  },
  {
   "cell_type": "code",
   "execution_count": 29,
   "metadata": {},
   "outputs": [
    {
     "name": "stdout",
     "output_type": "stream",
     "text": [
      "team2_4.txt:  jumping\n"
     ]
    }
   ],
   "source": [
    "with open('activity-test-dataset/team2_4.txt', 'r') as f:\n",
    "    unknown_trace = json.loads(f.read().replace('\\'','\\\"'))\n",
    "    \n",
    "unknwn= []\n",
    "unknwn_dic = makedic(unknown_trace['seq'])\n",
    "unknwn_dic['class']=-1\n",
    "unknwn.append(unknwn_dic)\n",
    "unk = pd.DataFrame.from_dict(unknwn)\n",
    "print(\"team2_4.txt: \",clkey[kn.predict(unk.iloc[:,:-1])[0]])"
   ]
  }
 ],
 "metadata": {
  "kernelspec": {
   "display_name": "Python 3",
   "language": "python",
   "name": "python3"
  },
  "language_info": {
   "codemirror_mode": {
    "name": "ipython",
    "version": 3
   },
   "file_extension": ".py",
   "mimetype": "text/x-python",
   "name": "python",
   "nbconvert_exporter": "python",
   "pygments_lexer": "ipython3",
   "version": "3.7.0"
  }
 },
 "nbformat": 4,
 "nbformat_minor": 2
}
