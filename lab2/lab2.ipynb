{
 "cells": [
  {
   "cell_type": "markdown",
   "metadata": {},
   "source": [
    "# Lab 2: Localization of Wireless Cameras"
   ]
  },
  {
   "cell_type": "markdown",
   "metadata": {},
   "source": [
    "### Important Notes:\n",
    "\n",
    "-The xloc and yloc are all flipped in the data given to us\n",
    "\n",
    "-Units are in inches.\n",
    "\n",
    "-We need to localize 3 devices with the following MAC addresses:\n",
    "    1. f8:cf:c5:97:e0:9e\n",
    "    2. ec:d0:9f:db:e8:1f\n",
    "    3. 80:e6:50:1b:a7:80\n",
    "    4. Ground truth of device with MAC 44:91:60:d3:d6:94 is (-22, 162)\n",
    "  Plan:\n",
    "    1. We sort the all datasets into 4 sub-datasets for each MAC.\n",
    "    2. The algorithm will use the log distance path loss model equation shown in detail in Lecture 7 Slides.\n",
    "    3. Test the algorithm for the ground truth device.\n",
    "    4. Extract location of other 3 devices."
   ]
  },
  {
   "cell_type": "code",
   "execution_count": 1,
   "metadata": {},
   "outputs": [],
   "source": [
    "import numpy as np, pandas as pd, json, os, matplotlib.pyplot as plt\n",
    "from sklearn.linear_model import LinearRegression"
   ]
  },
  {
   "cell_type": "markdown",
   "metadata": {},
   "source": [
    "## 1. Take all datasets and sort them into 4 tables, one for each MAC address"
   ]
  },
  {
   "cell_type": "code",
   "execution_count": 2,
   "metadata": {},
   "outputs": [],
   "source": [
    "cf = []\n",
    "d0 = []\n",
    "e6 = [] #initializaing empty arrays for each mac address\n",
    "gt = [] #ground-truth device\n",
    "for file in os.listdir('final_lab2_data'): #takes data from every file in folder\n",
    "    filename = os.fsdecode(file)\n",
    "    path = 'final_lab2_data/' + filename\n",
    "    with open(path, 'r') as f:\n",
    "        data = (json.loads(f.read().replace('\\'','\\\"')))\n",
    "    for x in range(0, len(data)):\n",
    "        entry = data[x]\n",
    "        if entry['mac'] == 'f8:cf:c5:97:e0:9e':\n",
    "            cf.append({'loc_x': entry['loc_y'], 'loc_y': entry['loc_x'], 'rss': entry['rss']})\n",
    "        elif entry['mac'] == 'ec:d0:9f:db:e8:1f':\n",
    "            d0.append({'loc_x': entry['loc_y'], 'loc_y': entry['loc_x'], 'rss': entry['rss']})\n",
    "        elif entry['mac'] == '80:e6:50:1b:a7:80':\n",
    "            e6.append({'loc_x': entry['loc_y'], 'loc_y': entry['loc_x'], 'rss': entry['rss']})\n",
    "        elif entry['mac'] == '44:91:60:d3:d6:94':\n",
    "            gt.append({'loc_x': entry['loc_y'], 'loc_y': entry['loc_x'], 'rss': entry['rss']})\n",
    "cfdf = pd.DataFrame(cf).apply(pd.to_numeric)\n",
    "d0df = pd.DataFrame(d0).apply(pd.to_numeric)\n",
    "e6df = pd.DataFrame(e6).apply(pd.to_numeric)\n",
    "gtdf = pd.DataFrame(gt).apply(pd.to_numeric)"
   ]
  },
  {
   "cell_type": "markdown",
   "metadata": {},
   "source": [
    "## 2. Finding missing parameters of log-distance path loss model"
   ]
  },
  {
   "cell_type": "markdown",
   "metadata": {},
   "source": [
    "The log-distance path loss equation:\n",
    "\n",
    "$P_{RX}[dBm]=C-\\gamma*log(d(TX,RX))$"
   ]
  },
  {
   "cell_type": "markdown",
   "metadata": {},
   "source": [
    "We will take the ground truth access point and calculate distance at every point in its trace. Then, we have only two missing variables, $C$ and $\\gamma$, which we can find via linear regression."
   ]
  },
  {
   "cell_type": "code",
   "execution_count": 3,
   "metadata": {},
   "outputs": [
    {
     "data": {
      "text/plain": [
       "<matplotlib.collections.PathCollection at 0x118fa0e10>"
      ]
     },
     "execution_count": 3,
     "metadata": {},
     "output_type": "execute_result"
    },
    {
     "data": {
      "image/png": "[encoded data removed]",
      "text/plain": [
       "<Figure size 432x288 with 1 Axes>"
      ]
     },
     "metadata": {},
     "output_type": "display_data"
    }
   ],
   "source": [
    "distances = (-1*np.log(((-22-gtdf.loc_x)**2+(162-gtdf.loc_y)**2)**.5)).values.reshape(-1,1)\n",
    "x = np.array(range(-6,-3))\n",
    "plt.scatter(distances,gtdf.rss)"
   ]
  },
  {
   "cell_type": "code",
   "execution_count": 4,
   "metadata": {},
   "outputs": [
    {
     "name": "stdout",
     "output_type": "stream",
     "text": [
      "gamma: 3.9902169080069996\n",
      "C: -40.30179552728029\n"
     ]
    },
    {
     "name": "stderr",
     "output_type": "stream",
     "text": [
      "/Library/Frameworks/Python.framework/Versions/3.7/lib/python3.7/site-packages/sklearn/linear_model/base.py:509: RuntimeWarning: internal gelsd driver lwork query error, required iwork dimension not returned. This is likely the result of LAPACK bug 0038, fixed in LAPACK 3.2.2 (released July 21, 2010). Falling back to 'gelss' driver.\n",
      "  linalg.lstsq(X, y)\n"
     ]
    }
   ],
   "source": [
    "reg = LinearRegression()\n",
    "reg.fit(distances,gtdf.rss)\n",
    "gamma = reg.coef_[0]\n",
    "C = reg.intercept_\n",
    "print(\"gamma: {}\\nC: {}\".format(gamma,C))"
   ]
  },
  {
   "cell_type": "markdown",
   "metadata": {},
   "source": [
    "## 3. Finding locations of access points with our complete model"
   ]
  },
  {
   "cell_type": "markdown",
   "metadata": {},
   "source": [
    "Reformatting the log-distance path loss equation to find $TX$:\n",
    "\n",
    "$$\\gamma*log(d(TX,RX)) = C-P_{RX}[dBm]$$\n",
    "\n",
    "$$d(TX,RX) = e^{(C-P_{RX}[dBm])/\\gamma}$$\n",
    "\n",
    "Given d(TX,RX) for separate coordinates RX1 and RX2, we can use the two resultant equations to find TX, i.e.:\n",
    "\n",
    "$$d(TX,RX1) = \\sqrt{(x_{TX}-x_{RX1})^{2}+(y_{TX}-y_{RX1})^{2}}$$ \n",
    "\n",
    "$$d(TX,RX2) = \\sqrt{(x_{TX}-x_{RX2})^{2}+(y_{TX}-y_{RX2})^{2}}$$\n",
    "\n",
    "$$x_{TX}^{2}-2(x_{TX}*x_{RX1})+x_{RX1}^{2}+y_{TX}^{2}-2(y_{TX}*y_{RX1})+y_{RX1}^{2} = d(TX,RX1)$$\n",
    "\n",
    "$$x_{TX}^{2}-2(x_{TX}*x_{RX2})+x_{RX2}^{2}+y_{TX}^{2}-2(y_{TX}*y_{RX2})+y_{RX2}^{2} = d(TX,RX2)$$\n",
    "\n",
    "multiplying the first equation by $y_{RX2}/y_{RX1}$, subtracting the two equations and letting $c = x_{RX1}^{2}+y_{RX1}^{2}-x_{RX2}^{2}-y_{RX2}^{2}$:\n",
    "\n",
    "$$x_{TX}(x_{RX1}-x_{RX2}) = d(TX,RX1)-d(TX,RX2)-c$$\n",
    "\n",
    "$$x_{TX} = \\frac{d(TX,RX1)-d(TX,RX2)-c}{x_{RX1}-x_{RX2}}$$\n",
    "\n",
    "Then we can find $y_{TX}$ by plugging $x_{TX}$ into $d(TX,RX1)$:\n",
    "\n",
    "$$y_{TX} = \\sqrt{d(TX,RX1)^{2}-(x_{TX}-x_{RX1})^{2}}+y_{RX1}$$\n"
   ]
  },
  {
   "cell_type": "markdown",
   "metadata": {},
   "source": [
    "### testing for correctness with ground truth"
   ]
  },
  {
   "cell_type": "code",
   "execution_count": 5,
   "metadata": {},
   "outputs": [
    {
     "data": {
      "text/plain": [
       "count    16604.000000\n",
       "mean       975.230156\n",
       "std       1352.476072\n",
       "min          0.264822\n",
       "25%         24.102954\n",
       "50%        108.419942\n",
       "75%       1328.946050\n",
       "max       9867.926236\n",
       "Name: rss, dtype: float64"
      ]
     },
     "execution_count": 5,
     "metadata": {},
     "output_type": "execute_result"
    }
   ],
   "source": [
    "ds = np.exp((C-gtdf.rss)/gamma)\n",
    "ds.describe()"
   ]
  },
  {
   "cell_type": "code",
   "execution_count": 6,
   "metadata": {},
   "outputs": [
    {
     "name": "stdout",
     "output_type": "stream",
     "text": [
      "-496.90332020227066\n"
     ]
    }
   ],
   "source": [
    "x1, x2, y1, y2 = gtdf.loc_x.iloc[0], gtdf.loc_x.iloc[-1], gtdf.loc_y.iloc[0], gtdf.loc_y.iloc[-1]\n",
    "xt = (ds.iloc[0]-ds.iloc[-1]-x1**2-y1**2+x2**2+y2**2)/(x1-x2)\n",
    "print(xt)"
   ]
  },
  {
   "cell_type": "code",
   "execution_count": 7,
   "metadata": {},
   "outputs": [
    {
     "data": {
      "text/html": [
       "<div>\n",
       "<style scoped>\n",
       "    .dataframe tbody tr th:only-of-type {\n",
       "        vertical-align: middle;\n",
       "    }\n",
       "\n",
       "    .dataframe tbody tr th {\n",
       "        vertical-align: top;\n",
       "    }\n",
       "\n",
       "    .dataframe thead th {\n",
       "        text-align: right;\n",
       "    }\n",
       "</style>\n",
       "<table border=\"1\" class=\"dataframe\">\n",
       "  <thead>\n",
       "    <tr style=\"text-align: right;\">\n",
       "      <th></th>\n",
       "      <th>loc_x</th>\n",
       "      <th>loc_y</th>\n",
       "      <th>rss</th>\n",
       "    </tr>\n",
       "  </thead>\n",
       "  <tbody>\n",
       "    <tr>\n",
       "      <th>0</th>\n",
       "      <td>116.805827</td>\n",
       "      <td>165.0</td>\n",
       "      <td>-47</td>\n",
       "    </tr>\n",
       "    <tr>\n",
       "      <th>1</th>\n",
       "      <td>116.795910</td>\n",
       "      <td>165.0</td>\n",
       "      <td>-47</td>\n",
       "    </tr>\n",
       "    <tr>\n",
       "      <th>2</th>\n",
       "      <td>112.815861</td>\n",
       "      <td>165.0</td>\n",
       "      <td>-47</td>\n",
       "    </tr>\n",
       "    <tr>\n",
       "      <th>3</th>\n",
       "      <td>112.805795</td>\n",
       "      <td>165.0</td>\n",
       "      <td>-49</td>\n",
       "    </tr>\n",
       "    <tr>\n",
       "      <th>4</th>\n",
       "      <td>110.796442</td>\n",
       "      <td>165.0</td>\n",
       "      <td>-47</td>\n",
       "    </tr>\n",
       "  </tbody>\n",
       "</table>\n",
       "</div>"
      ],
      "text/plain": [
       "        loc_x  loc_y  rss\n",
       "0  116.805827  165.0  -47\n",
       "1  116.795910  165.0  -47\n",
       "2  112.815861  165.0  -47\n",
       "3  112.805795  165.0  -49\n",
       "4  110.796442  165.0  -47"
      ]
     },
     "execution_count": 7,
     "metadata": {},
     "output_type": "execute_result"
    }
   ],
   "source": [
    "gtdf.head()"
   ]
  },
  {
   "cell_type": "code",
   "execution_count": null,
   "metadata": {},
   "outputs": [],
   "source": []
  }
 ],
 "metadata": {
  "kernelspec": {
   "display_name": "Python 3",
   "language": "python",
   "name": "python3"
  },
  "language_info": {
   "codemirror_mode": {
    "name": "ipython",
    "version": 3
   },
   "file_extension": ".py",
   "mimetype": "text/x-python",
   "name": "python",
   "nbconvert_exporter": "python",
   "pygments_lexer": "ipython3",
   "version": "3.7.0"
  }
 },
 "nbformat": 4,
 "nbformat_minor": 2
}
