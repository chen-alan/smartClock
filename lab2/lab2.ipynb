{
 "cells": [
  {
   "cell_type": "markdown",
   "metadata": {},
   "source": [
    "# Lab 2: Localization of Wireless Cameras"
   ]
  },
  {
   "cell_type": "markdown",
   "metadata": {},
   "source": [
    "Important Notes:\n",
    "\n",
    "-The xloc and yloc are all flipped in the data given to us\n",
    "\n",
    "-Units are in inches.\n",
    "\n",
    "-We need to localize 3 devices with the following MAC addresses:\n",
    "    1. f8:cf:c5:97:e0:9e\n",
    "    2. ec:d0:9f:db:e8:1f\n",
    "    3. 80:e6:50:1b:a7:80\n",
    "    4. Ground truth of device with MAC 44:91:60:d3:d6:94 is (-22, 162)\n",
    "  Plan:\n",
    "    1. We sort the all datasets into 4 sub-datasets for each MAC.\n",
    "    2. The algorithm will use the log distance path loss model equation shown in detail in Lecture 7 Slides.\n",
    "    3. Test the algorithm for the ground truth device.\n",
    "    4. Extract location of other 3 devices."
   ]
  },
  {
   "cell_type": "code",
   "execution_count": 17,
   "metadata": {},
   "outputs": [],
   "source": [
    "import numpy as np, pandas as pd, json, os"
   ]
  },
  {
   "cell_type": "markdown",
   "metadata": {},
   "source": [
    "## 1. Take all datasets and sort them into 4 tables, one for each MAC address"
   ]
  },
  {
   "cell_type": "code",
   "execution_count": 18,
   "metadata": {},
   "outputs": [],
   "source": [
    "cf = []\n",
    "d0 = []\n",
    "e6 = [] #initializaing empty arrays for each mac address\n",
    "gt = [] #ground-truth device\n",
    "for file in os.listdir('final_lab2_data'): #takes data from every file in folder\n",
    "    filename = os.fsdecode(file)\n",
    "    path = 'final_lab2_data/' + filename\n",
    "    with open(path, 'r') as f:\n",
    "        data = (json.loads(f.read().replace('\\'','\\\"')))\n",
    "    for x in range(0, len(data)):\n",
    "        entry = data[x]\n",
    "        if entry['mac'] == 'f8:cf:c5:97:e0:9e':\n",
    "            cf.append({'loc_x': entry['loc_y'], 'loc_y': entry['loc_x'], 'rss:': entry['rss']})\n",
    "        elif entry['mac'] == 'ec:d0:9f:db:e8:1f':\n",
    "            d0.append({'loc_x': entry['loc_y'], 'loc_y': entry['loc_x'], 'rss:': entry['rss']})\n",
    "        elif entry['mac'] == '80:e6:50:1b:a7:80':\n",
    "            e6.append({'loc_x': entry['loc_y'], 'loc_y': entry['loc_x'], 'rss:': entry['rss']})\n",
    "        elif entry['mac'] == '44:91:60:d3:d6:94':\n",
    "            gt.append({'loc_x': entry['loc_y'], 'loc_y': entry['loc_x'], 'rss:': entry['rss']})\n",
    "cfdf = pd.DataFrame(cf)\n",
    "d0df = pd.DataFrame(d0)\n",
    "e6df = pd.DataFrame(e6)\n",
    "gtdf = pd.DataFrame(gt)"
   ]
  },
  {
   "cell_type": "markdown",
   "metadata": {},
   "source": [
    "## 2. Find linear fit line for each device using equation in Lecture 7. Deduce constants from fit."
   ]
  },
  {
   "cell_type": "code",
   "execution_count": null,
   "metadata": {},
   "outputs": [],
   "source": []
  }
 ],
 "metadata": {
  "kernelspec": {
   "display_name": "Python 3",
   "language": "python",
   "name": "python3"
  },
  "language_info": {
   "codemirror_mode": {
    "name": "ipython",
    "version": 3
   },
   "file_extension": ".py",
   "mimetype": "text/x-python",
   "name": "python",
   "nbconvert_exporter": "python",
   "pygments_lexer": "ipython3",
   "version": "3.7.0"
  }
 },
 "nbformat": 4,
 "nbformat_minor": 2
}
