{
 "cells": [
  {
   "cell_type": "markdown",
   "metadata": {},
   "source": [
    "# Lab 2: Localization of Wireless Cameras"
   ]
  },
  {
   "cell_type": "markdown",
   "metadata": {},
   "source": [
    "### Important Notes:\n",
    "\n",
    "-The xloc and yloc are all flipped in the data given to us\n",
    "\n",
    "-Units are in inches.\n",
    "\n",
    "-We need to localize 3 devices with the following MAC addresses:\n",
    "    1. f8:cf:c5:97:e0:9e\n",
    "    2. ec:d0:9f:db:e8:1f\n",
    "    3. 80:e6:50:1b:a7:80\n",
    "    4. Ground truth of device with MAC 44:91:60:d3:d6:94 is (-22, 162)\n",
    "  Plan:\n",
    "    1. We sort the all datasets into 4 sub-datasets for each MAC.\n",
    "    2. The algorithm will use the log distance path loss model equation shown in detail in Lecture 7 Slides.\n",
    "    3. Test the algorithm for the ground truth device.\n",
    "    4. Extract location of other 3 devices."
   ]
  },
  {
   "cell_type": "code",
   "execution_count": 1,
   "metadata": {},
   "outputs": [],
   "source": [
    "import numpy as np, pandas as pd, json, os, matplotlib.pyplot as plt\n",
    "from sklearn.linear_model import LinearRegression"
   ]
  },
  {
   "cell_type": "markdown",
   "metadata": {},
   "source": [
    "## 1. Take all datasets and sort them into 4 tables, one for each MAC address"
   ]
  },
  {
   "cell_type": "code",
   "execution_count": 2,
   "metadata": {},
   "outputs": [],
   "source": [
    "cf = []\n",
    "d0 = []\n",
    "e6 = [] #initializaing empty arrays for each mac address\n",
    "gt = [] #ground-truth device\n",
    "with open('car_traces.txt','r') as f:\n",
    "    files = list(filter(lambda x:x!='',f.read().split('\\n')))\n",
    "    fileind = {}\n",
    "    for file in files:\n",
    "        inds = file.split()\n",
    "        if inds[0] in fileind:\n",
    "            fileind[inds[0]].append(inds[1])\n",
    "        else:\n",
    "            fileind[inds[0]] = [inds[1]]\n",
    "desiredfiles = fileind['eea7']\n",
    "for file in desiredfiles: #takes data from every file in folder\n",
    "    filename = os.fsdecode(file)\n",
    "    path = 'final_lab2_data/' + filename\n",
    "    with open(path, 'r') as f:\n",
    "        data = (json.loads(f.read().replace('\\'','\\\"')))\n",
    "    for x in range(0, len(data)):\n",
    "        entry = data[x]\n",
    "        if entry['mac'] == 'f8:cf:c5:97:e0:9e':\n",
    "            cf.append({'loc_x': entry['loc_y'], 'loc_y': entry['loc_x'], 'rss': entry['rss']})\n",
    "        elif entry['mac'] == 'ec:d0:9f:db:e8:1f':\n",
    "            d0.append({'loc_x': entry['loc_y'], 'loc_y': entry['loc_x'], 'rss': entry['rss']})\n",
    "        elif entry['mac'] == '80:e6:50:1b:a7:80':\n",
    "            e6.append({'loc_x': entry['loc_y'], 'loc_y': entry['loc_x'], 'rss': entry['rss']})\n",
    "        elif entry['mac'] == '44:91:60:d3:d6:94':\n",
    "            gt.append({'loc_x': entry['loc_y'], 'loc_y': entry['loc_x'], 'rss': entry['rss']})\n",
    "cfdf = pd.DataFrame(cf).apply(pd.to_numeric)\n",
    "d0df = pd.DataFrame(d0).apply(pd.to_numeric)\n",
    "e6df = pd.DataFrame(e6).apply(pd.to_numeric)\n",
    "gtdf = pd.DataFrame(gt).apply(pd.to_numeric)"
   ]
  },
  {
   "cell_type": "markdown",
   "metadata": {},
   "source": [
    "## 2. Fitting given missing parameters of log-distance path loss model"
   ]
  },
  {
   "cell_type": "markdown",
   "metadata": {},
   "source": [
    "The log-distance path loss equation:\n",
    "\n",
    "$P_{RX}[dBm]=C-\\gamma*log(d(TX,RX))$"
   ]
  },
  {
   "cell_type": "markdown",
   "metadata": {},
   "source": [
    "We will be using the methodology detailed in Xu et al.'s _RSS-Based Source Localization When Path-Loss Model Parameters are Unknown_, which takes a search approach with different tested ratios of power to find the most accurate $\\gamma$ for the set within $.05$. The approach will also let us calculate $(x_{TX}, y_{TX})$ directly without having to find $C$.\n",
    "\n",
    "For the sake of reducing noise from conflicting distributions we will only be using the trace data from one car, eea7."
   ]
  },
  {
   "cell_type": "code",
   "execution_count": 3,
   "metadata": {},
   "outputs": [],
   "source": [
    "def findTrans(df):\n",
    "    optgam,optsum,optx,opty = 0,None,0,0\n",
    "    x1 = df.loc_x.iloc[0]\n",
    "    y1 = df.loc_y.iloc[0]\n",
    "    xj = df.loc_x.iloc[1:]\n",
    "    yj = df.loc_y.iloc[1:]\n",
    "    for i in np.arange(1,5.05,.05):\n",
    "        gamma = i\n",
    "        P1 = (df.rss.iloc[0]/abs(df.rss.iloc[0]))*abs(df.rss.iloc[0])**(1/gamma)\n",
    "        Pj = (df.rss.iloc[1:]/abs(df.rss.iloc[1:]))*abs(df.rss.iloc[1:])**(1/gamma)\n",
    "        A = np.array([2*(Pj**2*xj-P1**2*x1),2*(Pj**2*yj-P1**2*y1),P1**2-Pj**2]).transpose()\n",
    "        b = np.array([Pj**2*(xj**2+yj**2)-P1**2*(x1**2+y1**2)]).transpose()\n",
    "        theta = np.matmul(np.linalg.inv(np.matmul(A.transpose(),A)),np.matmul(A.transpose(),b))\n",
    "        d = ((theta[0][0]-df.loc_x)**2+(theta[1][0]-df.loc_y)**2)**.5\n",
    "        d1, di = d.iloc[0], d.iloc[1:]\n",
    "        tot = sum((d1/di-Pj/P1)**2)\n",
    "        if not optsum or (optsum and optsum > tot):\n",
    "            optsum = tot\n",
    "            optgam = gamma\n",
    "            optx = theta[0][0]\n",
    "            opty = theta[1][0]\n",
    "    print(\"Optimal gamma: {} with total squared error: {}\".format(optgam, optsum))\n",
    "    print(\"Most accurate (x,y): {}\".format((optx,opty)))"
   ]
  },
  {
   "cell_type": "markdown",
   "metadata": {},
   "source": [
    "### Test on ground truth"
   ]
  },
  {
   "cell_type": "code",
   "execution_count": 4,
   "metadata": {},
   "outputs": [
    {
     "name": "stdout",
     "output_type": "stream",
     "text": [
      "Optimal gamma: 2.8500000000000014 with total squared error: 237.30726756545076\n",
      "Most accurate (x,y): (182.94467500271702, 143.9454353838656)\n"
     ]
    }
   ],
   "source": [
    "findTrans(gtdf)"
   ]
  },
  {
   "cell_type": "markdown",
   "metadata": {},
   "source": [
    "There is inaccuracy, but not terrible - 5 meters for x-axis, and .53 meters for y-axis. Now we will apply to find other APs."
   ]
  },
  {
   "cell_type": "markdown",
   "metadata": {},
   "source": [
    "### f8:cf:c5:97:e0:9e"
   ]
  },
  {
   "cell_type": "code",
   "execution_count": 5,
   "metadata": {},
   "outputs": [
    {
     "name": "stdout",
     "output_type": "stream",
     "text": [
      "Optimal gamma: 5.0000000000000036 with total squared error: 267.7459390469134\n",
      "Most accurate (x,y): (177.5140559802174, 143.5093015530926)\n"
     ]
    }
   ],
   "source": [
    "findTrans(cfdf)"
   ]
  },
  {
   "cell_type": "markdown",
   "metadata": {},
   "source": [
    "### ec:d0:9f:db:e8:1f"
   ]
  },
  {
   "cell_type": "code",
   "execution_count": 6,
   "metadata": {},
   "outputs": [
    {
     "name": "stdout",
     "output_type": "stream",
     "text": [
      "Optimal gamma: 3.100000000000002 with total squared error: 273.36559668022136\n",
      "Most accurate (x,y): (175.69224090144775, 142.11826178777244)\n"
     ]
    }
   ],
   "source": [
    "findTrans(d0df)"
   ]
  },
  {
   "cell_type": "markdown",
   "metadata": {},
   "source": [
    "### 80:e6:50:1b:a7:80"
   ]
  },
  {
   "cell_type": "code",
   "execution_count": 7,
   "metadata": {},
   "outputs": [
    {
     "name": "stdout",
     "output_type": "stream",
     "text": [
      "Optimal gamma: 5.0000000000000036 with total squared error: 1361.8511597252034\n",
      "Most accurate (x,y): (175.15387195277967, 152.00867458428013)\n"
     ]
    }
   ],
   "source": [
    "findTrans(e6df)"
   ]
  }
 ],
 "metadata": {
  "kernelspec": {
   "display_name": "Python 3",
   "language": "python",
   "name": "python3"
  },
  "language_info": {
   "codemirror_mode": {
    "name": "ipython",
    "version": 3
   },
   "file_extension": ".py",
   "mimetype": "text/x-python",
   "name": "python",
   "nbconvert_exporter": "python",
   "pygments_lexer": "ipython3",
   "version": "3.7.0"
  }
 },
 "nbformat": 4,
 "nbformat_minor": 2
}
