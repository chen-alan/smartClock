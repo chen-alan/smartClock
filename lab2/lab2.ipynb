{
 "cells": [
  {
   "cell_type": "markdown",
   "metadata": {},
   "source": [
    "# Lab 2: Localization of Wireless Cameras"
   ]
  },
  {
   "cell_type": "markdown",
   "metadata": {},
   "source": [
    "### Important Notes:\n",
    "\n",
    "-The xloc and yloc are all flipped in the data given to us\n",
    "\n",
    "-Units are in inches.\n",
    "\n",
    "-We need to localize 3 devices with the following MAC addresses:\n",
    "    1. f8:cf:c5:97:e0:9e\n",
    "    2. ec:d0:9f:db:e8:1f\n",
    "    3. 80:e6:50:1b:a7:80\n",
    "    4. Ground truth of device with MAC 44:91:60:d3:d6:94 is (-22, 162)\n",
    "  Plan:\n",
    "    1. We sort the all datasets into 4 sub-datasets for each MAC.\n",
    "    2. The algorithm will use the log distance path loss model equation shown in detail in Lecture 7 Slides.\n",
    "    3. Test the algorithm for the ground truth device.\n",
    "    4. Extract location of other 3 devices."
   ]
  },
  {
   "cell_type": "code",
   "execution_count": 1,
   "metadata": {},
   "outputs": [],
   "source": [
    "import numpy as np, pandas as pd, json, os, matplotlib.pyplot as plt\n",
    "from sklearn.linear_model import LinearRegression"
   ]
  },
  {
   "cell_type": "markdown",
   "metadata": {},
   "source": [
    "## 1. Take all datasets and sort them into 4 tables, one for each MAC address"
   ]
  },
  {
   "cell_type": "code",
   "execution_count": 2,
   "metadata": {},
   "outputs": [],
   "source": [
    "cf = []\n",
    "d0 = []\n",
    "e6 = [] #initializaing empty arrays for each mac address\n",
    "gt = [] #ground-truth device\n",
    "with open('car_traces.txt','r') as f:\n",
    "    files = list(filter(lambda x:x!='',f.read().split('\\n')))\n",
    "    fileind = {}\n",
    "    for file in files:\n",
    "        inds = file.split()\n",
    "        if inds[0] in fileind:\n",
    "            fileind[inds[0]].append(inds[1])\n",
    "        else:\n",
    "            fileind[inds[0]] = [inds[1]]\n",
    "desiredfiles = fileind['eea7']\n",
    "for file in desiredfiles: #takes data from every file in folder\n",
    "    filename = os.fsdecode(file)\n",
    "    path = 'final_lab2_data/' + filename\n",
    "    with open(path, 'r') as f:\n",
    "        data = (json.loads(f.read().replace('\\'','\\\"')))\n",
    "    for x in range(0, len(data)):\n",
    "        entry = data[x]\n",
    "        if entry['mac'] == 'f8:cf:c5:97:e0:9e':\n",
    "            cf.append({'loc_x': entry['loc_y'], 'loc_y': entry['loc_x'], 'rss': entry['rss']})\n",
    "        elif entry['mac'] == 'ec:d0:9f:db:e8:1f':\n",
    "            d0.append({'loc_x': entry['loc_y'], 'loc_y': entry['loc_x'], 'rss': entry['rss']})\n",
    "        elif entry['mac'] == '80:e6:50:1b:a7:80':\n",
    "            e6.append({'loc_x': entry['loc_y'], 'loc_y': entry['loc_x'], 'rss': entry['rss']})\n",
    "        elif entry['mac'] == '44:91:60:d3:d6:94':\n",
    "            gt.append({'loc_x': entry['loc_y'], 'loc_y': entry['loc_x'], 'rss': entry['rss']})\n",
    "cfdf = pd.DataFrame(cf).apply(pd.to_numeric)\n",
    "d0df = pd.DataFrame(d0).apply(pd.to_numeric)\n",
    "e6df = pd.DataFrame(e6).apply(pd.to_numeric)\n",
    "gtdf = pd.DataFrame(gt).apply(pd.to_numeric)"
   ]
  },
  {
   "cell_type": "markdown",
   "metadata": {},
   "source": [
    "## 2. Finding missing parameters of log-distance path loss model"
   ]
  },
  {
   "cell_type": "markdown",
   "metadata": {},
   "source": [
    "The log-distance path loss equation:\n",
    "\n",
    "$P_{RX}[dBm]=C-\\gamma*log(d(TX,RX))$"
   ]
  },
  {
   "cell_type": "markdown",
   "metadata": {},
   "source": [
    "We will take the ground truth access point and calculate distance at every point in its trace. Then, we have only two missing variables, $C$ and $\\gamma$, which we can find via linear regression."
   ]
  },
  {
   "cell_type": "code",
   "execution_count": 3,
   "metadata": {},
   "outputs": [
    {
     "name": "stdout",
     "output_type": "stream",
     "text": [
      "gamma: 5.547941048933078\n",
      "C: -24.555201863547698\n"
     ]
    },
    {
     "name": "stderr",
     "output_type": "stream",
     "text": [
      "/Library/Frameworks/Python.framework/Versions/3.7/lib/python3.7/site-packages/sklearn/linear_model/base.py:509: RuntimeWarning: internal gelsd driver lwork query error, required iwork dimension not returned. This is likely the result of LAPACK bug 0038, fixed in LAPACK 3.2.2 (released July 21, 2010). Falling back to 'gelss' driver.\n",
      "  linalg.lstsq(X, y)\n"
     ]
    }
   ],
   "source": [
    "distances = (-1*np.log(((-22-gtdf.loc_x)**2+(162-gtdf.loc_y)**2)**.5)).values.reshape(-1,1)\n",
    "reg = LinearRegression()\n",
    "reg.fit(distances,gtdf.rss)\n",
    "gamma = reg.coef_[0]\n",
    "C = reg.intercept_\n",
    "print(\"gamma: {}\\nC: {}\".format(gamma,C))"
   ]
  },
  {
   "cell_type": "code",
   "execution_count": 4,
   "metadata": {},
   "outputs": [
    {
     "data": {
      "text/plain": [
       "[<matplotlib.lines.Line2D at 0x111535c88>]"
      ]
     },
     "execution_count": 4,
     "metadata": {},
     "output_type": "execute_result"
    },
    {
     "data": {
      "image/png": "[encoded data removed]",
      "text/plain": [
       "<Figure size 432x288 with 1 Axes>"
      ]
     },
     "metadata": {},
     "output_type": "display_data"
    }
   ],
   "source": [
    "#plotting found regression against data\n",
    "x = np.array(range(-6,-2))\n",
    "plt.scatter(distances,gtdf.rss)\n",
    "plt.plot(x,x*gamma+C)"
   ]
  },
  {
   "cell_type": "markdown",
   "metadata": {},
   "source": [
    "## 3. FUCK"
   ]
  },
  {
   "cell_type": "code",
   "execution_count": 35,
   "metadata": {},
   "outputs": [
    {
     "name": "stderr",
     "output_type": "stream",
     "text": [
      "/Library/Frameworks/Python.framework/Versions/3.7/lib/python3.7/site-packages/ipykernel_launcher.py:1: RuntimeWarning: invalid value encountered in float_power\n",
      "  \"\"\"Entry point for launching an IPython kernel.\n"
     ]
    },
    {
     "data": {
      "text/plain": [
       "nan"
      ]
     },
     "execution_count": 35,
     "metadata": {},
     "output_type": "execute_result"
    }
   ],
   "source": [
    "np.float_power(gtdf.rss.iloc[0],1/1.05)"
   ]
  },
  {
   "cell_type": "code",
   "execution_count": 33,
   "metadata": {},
   "outputs": [
    {
     "name": "stdout",
     "output_type": "stream",
     "text": [
      "-57.0 1      -57.0\n",
      "2      -57.0\n",
      "3      -57.0\n",
      "4      -57.0\n",
      "5      -57.0\n",
      "6      -55.0\n",
      "7      -55.0\n",
      "8      -53.0\n",
      "9      -55.0\n",
      "10     -55.0\n",
      "11     -55.0\n",
      "12     -55.0\n",
      "13     -55.0\n",
      "14     -55.0\n",
      "15     -57.0\n",
      "16     -59.0\n",
      "17     -59.0\n",
      "18     -59.0\n",
      "19     -59.0\n",
      "20     -55.0\n",
      "21     -57.0\n",
      "22     -61.0\n",
      "23     -61.0\n",
      "24     -57.0\n",
      "25     -57.0\n",
      "26     -59.0\n",
      "27     -59.0\n",
      "28     -51.0\n",
      "29     -53.0\n",
      "30     -51.0\n",
      "        ... \n",
      "5311   -45.0\n",
      "5312   -47.0\n",
      "5313   -47.0\n",
      "5314   -45.0\n",
      "5315   -45.0\n",
      "5316   -43.0\n",
      "5317   -45.0\n",
      "5318   -45.0\n",
      "5319   -47.0\n",
      "5320   -47.0\n",
      "5321   -45.0\n",
      "5322   -45.0\n",
      "5323   -43.0\n",
      "5324   -47.0\n",
      "5325   -47.0\n",
      "5326   -45.0\n",
      "5327   -47.0\n",
      "5328   -45.0\n",
      "5329   -45.0\n",
      "5330   -41.0\n",
      "5331   -43.0\n",
      "5332   -47.0\n",
      "5333   -47.0\n",
      "5334   -49.0\n",
      "5335   -47.0\n",
      "5336   -49.0\n",
      "5337   -47.0\n",
      "5338   -47.0\n",
      "5339   -45.0\n",
      "5340   -47.0\n",
      "Name: rss, Length: 5340, dtype: float64\n",
      "0       118.770099\n",
      "1       118.768834\n",
      "2       118.518821\n",
      "3       118.517690\n",
      "4       118.315486\n",
      "5       118.314485\n",
      "6       118.145738\n",
      "7       118.145008\n",
      "8       118.144730\n",
      "9       118.144521\n",
      "10      118.144322\n",
      "11      118.011183\n",
      "12      117.912048\n",
      "13      117.911607\n",
      "14      117.847775\n",
      "15      117.847550\n",
      "16      117.818208\n",
      "17      117.818150\n",
      "18      117.825780\n",
      "19      117.825915\n",
      "20      117.868291\n",
      "21      117.868511\n",
      "22      117.952048\n",
      "23      117.952571\n",
      "24      118.066158\n",
      "25      118.066822\n",
      "26      118.223481\n",
      "27      118.224371\n",
      "28      118.413839\n",
      "29      118.416883\n",
      "           ...    \n",
      "5311    131.153855\n",
      "5312    133.143556\n",
      "5313    133.154383\n",
      "5314    134.973993\n",
      "5315    134.983068\n",
      "5316    138.861079\n",
      "5317    138.870532\n",
      "5318    140.780424\n",
      "5319    140.789824\n",
      "5320    142.637847\n",
      "5321    142.639484\n",
      "5322    142.649424\n",
      "5323    144.575727\n",
      "5324    146.456664\n",
      "5325    146.466784\n",
      "5326    148.319067\n",
      "5327    148.329404\n",
      "5328    150.221976\n",
      "5329    150.232020\n",
      "5330    152.176969\n",
      "5331    152.190398\n",
      "5332    154.079744\n",
      "5333    156.095898\n",
      "5334    157.995545\n",
      "5335    158.004865\n",
      "5336    158.012914\n",
      "5337    159.936526\n",
      "5338    159.946302\n",
      "5339    162.061289\n",
      "5340    162.071578\n",
      "Length: 5341, dtype: float64 0       14106.336487\n",
      "1       14106.035967\n",
      "2       14046.711020\n",
      "3       14046.442743\n",
      "4       13998.554260\n",
      "5       13998.317418\n",
      "6       13958.415448\n",
      "7       13958.242988\n",
      "8       13958.177178\n",
      "9       13958.127870\n",
      "10      13958.080877\n",
      "11      13926.639363\n",
      "12      13903.250981\n",
      "13      13903.147109\n",
      "14      13888.098134\n",
      "15      13888.044966\n",
      "16      13881.130133\n",
      "17      13881.116420\n",
      "18      13882.914494\n",
      "19      13882.946296\n",
      "20      13892.933953\n",
      "21      13892.985890\n",
      "22      13912.685638\n",
      "23      13912.808928\n",
      "24      13939.617721\n",
      "25      13939.774481\n",
      "26      13976.791442\n",
      "27      13977.001978\n",
      "28      14021.837249\n",
      "29      14022.558079\n",
      "            ...     \n",
      "5311    17201.333588\n",
      "5312    17727.206465\n",
      "5313    17730.089733\n",
      "5314    18217.978770\n",
      "5315    18220.428697\n",
      "5316    19282.399343\n",
      "5317    19285.024569\n",
      "5318    19819.127772\n",
      "5319    19821.774669\n",
      "5320    20345.555406\n",
      "5321    20346.022437\n",
      "5322    20348.858101\n",
      "5323    20902.140829\n",
      "5324    21449.554376\n",
      "5325    21452.518806\n",
      "5326    21998.545591\n",
      "5327    22001.612114\n",
      "5328    22566.642010\n",
      "5329    22569.659801\n",
      "5330    23157.829764\n",
      "5331    23161.917328\n",
      "5332    23740.567435\n",
      "5333    24365.929260\n",
      "5334    24962.592121\n",
      "5335    24965.537356\n",
      "5336    24968.080952\n",
      "5337    25579.692508\n",
      "5338    25582.819666\n",
      "5339    26263.861250\n",
      "5340    26267.196383\n",
      "Length: 5341, dtype: float64\n",
      "0 None\n"
     ]
    }
   ],
   "source": [
    "optgam,optsum = 0,None\n",
    "x1 = gtdf.loc_x.iloc[0]\n",
    "y1 = gtdf.loc_y.iloc[0]\n",
    "xj = gtdf.loc_x.iloc[1:]\n",
    "yj = gtdf.loc_y.iloc[1:]\n",
    "for i in np.arange(1,5.05,.05):\n",
    "    gamma = i\n",
    "    P1 = np.float_power(gtdf.rss.iloc[0],1/gamma)\n",
    "    Pj = np.power(gtdf.rss.iloc[1:],1/gamma)\n",
    "    #print(P1,Pj)\n",
    "    A = np.array([2*(Pj**2*xj-P1**2*x1),2*(Pj**2*yj-P1**2*y1),P1**2-Pj**2]).transpose()\n",
    "    b = np.array([Pj**2*(xj**2+yj**2)-P1**2*(x1**2+y1**2)]).transpose()\n",
    "    #print(A,b)\n",
    "    theta = np.matmul(np.linalg.inv(np.matmul(A.transpose(),A)),np.matmul(A.transpose(),b))\n",
    "    #print(theta)\n",
    "    d = ((theta[0][0]-gtdf.loc_x)**2+(theta[1][0]-gtdf.loc_y)**2)**.5\n",
    "    print(d, ((theta[0][0]-gtdf.loc_x)**2+(theta[1][0]-gtdf.loc_y)**2))\n",
    "    break\n",
    "    d1, di = d.iloc[0], d.iloc[1:]\n",
    "    #print(d1,di)\n",
    "    tot = sum((d1/di-(Pj/P1))**2)\n",
    "    if not optsum or (optsum and optsum > tot):\n",
    "        optsum = tot\n",
    "        optgam = gamma\n",
    "    #print(tot)\n",
    "print(optgam, optsum)"
   ]
  },
  {
   "cell_type": "markdown",
   "metadata": {},
   "source": [
    "## 3. Finding locations of access points with our complete model"
   ]
  },
  {
   "cell_type": "markdown",
   "metadata": {},
   "source": [
    "Reformatting the log-distance path loss equation to find $TX$:\n",
    "\n",
    "$$\\gamma*log(d(TX,RX)) = C-P_{RX}[dBm]$$\n",
    "\n",
    "$$d(TX,RX) = e^{(C-P_{RX}[dBm])/\\gamma}$$\n",
    "\n",
    "Given d(TX,RX) for separate coordinates RX1 and RX2, we can use the two resultant equations to find TX, i.e.:\n",
    "\n",
    "$$d(TX,RX1) = \\sqrt{(x_{TX}-x_{RX1})^{2}+(y_{TX}-y_{RX1})^{2}}$$ \n",
    "\n",
    "$$d(TX,RX2) = \\sqrt{(x_{TX}-x_{RX2})^{2}+(y_{TX}-y_{RX2})^{2}}$$\n",
    "\n",
    "$$x_{TX}^{2}-2(x_{TX}*x_{RX1})+x_{RX1}^{2}+y_{TX}^{2}-2(y_{TX}*y_{RX1})+y_{RX1}^{2} = d(TX,RX1)^{2}$$\n",
    "\n",
    "$$x_{TX}^{2}-2(x_{TX}*x_{RX2})+x_{RX2}^{2}+y_{TX}^{2}-2(y_{TX}*y_{RX2})+y_{RX2}^{2} = d(TX,RX2)^{2}$$\n",
    "\n",
    "multiplying the first equation by $y_{RX2}/y_{RX1}$, subtracting the two equations and letting $const = \\frac{y_{RX2}}{y_{RX1}}*(x_{RX1}^{2}+y_{RX1}^{2})-x_{RX2}^{2}-y_{RX2}^{2}$:\n",
    "\n",
    "$$(\\frac{y_{RX2}}{y_{RX1}}-1)*x_{TX}^{2}-2x_{TX}(\\frac{y_{RX2}}{y_{RX1}}*x_{RX1}-x_{RX2})-\\frac{y_{RX2}}{y_{RX1}}*d(TX,RX1)^{2}+d(TX,RX2)^{2}+const = 0$$\n",
    "\n",
    "from which $x_{TX}$ can be solved by using the quadratic formula $x = \\frac{-b \\pm \\sqrt{b^{2}-4ac}}{2a}$\n",
    "\n",
    "where $a=(\\frac{y_{RX2}}{y_{RX1}}-1)$, $b=-2(\\frac{y_{RX2}}{y_{RX1}}*x_{RX1}-x_{RX2})$, and $c=-\\frac{y_{RX2}}{y_{RX1}}*d(TX,RX1)^{2}+d(TX,RX2)^{2}+const$\n",
    "\n",
    "Then we can find $y_{TX}$ by plugging $x_{TX}$ into $d(TX,RX1)$:\n",
    "\n",
    "$$y_{TX} = \\sqrt{d(TX,RX1)^{2}-(x_{TX}-x_{RX1})^{2}}+y_{RX1}$$\n"
   ]
  },
  {
   "cell_type": "markdown",
   "metadata": {},
   "source": [
    "### testing for correctness with ground truth"
   ]
  },
  {
   "cell_type": "code",
   "execution_count": 5,
   "metadata": {},
   "outputs": [
    {
     "data": {
      "text/plain": [
       "count    5341.000000\n",
       "mean      240.608007\n",
       "std       180.165313\n",
       "min         6.570856\n",
       "25%       117.518623\n",
       "50%       241.672864\n",
       "75%       346.568021\n",
       "max      3014.061220\n",
       "Name: rss, dtype: float64"
      ]
     },
     "execution_count": 5,
     "metadata": {},
     "output_type": "execute_result"
    }
   ],
   "source": [
    "ds = np.exp((C-gtdf.rss)/gamma)\n",
    "ds.describe()"
   ]
  },
  {
   "cell_type": "code",
   "execution_count": 6,
   "metadata": {},
   "outputs": [
    {
     "data": {
      "text/html": [
       "<div>\n",
       "<style scoped>\n",
       "    .dataframe tbody tr th:only-of-type {\n",
       "        vertical-align: middle;\n",
       "    }\n",
       "\n",
       "    .dataframe tbody tr th {\n",
       "        vertical-align: top;\n",
       "    }\n",
       "\n",
       "    .dataframe thead th {\n",
       "        text-align: right;\n",
       "    }\n",
       "</style>\n",
       "<table border=\"1\" class=\"dataframe\">\n",
       "  <thead>\n",
       "    <tr style=\"text-align: right;\">\n",
       "      <th></th>\n",
       "      <th>loc_x</th>\n",
       "      <th>loc_y</th>\n",
       "      <th>rss</th>\n",
       "    </tr>\n",
       "  </thead>\n",
       "  <tbody>\n",
       "    <tr>\n",
       "      <th>0</th>\n",
       "      <td>169.952433</td>\n",
       "      <td>261.000000</td>\n",
       "      <td>-57</td>\n",
       "    </tr>\n",
       "    <tr>\n",
       "      <th>270</th>\n",
       "      <td>50.104443</td>\n",
       "      <td>218.346221</td>\n",
       "      <td>-45</td>\n",
       "    </tr>\n",
       "    <tr>\n",
       "      <th>341</th>\n",
       "      <td>289.000000</td>\n",
       "      <td>207.736170</td>\n",
       "      <td>-57</td>\n",
       "    </tr>\n",
       "    <tr>\n",
       "      <th>3791</th>\n",
       "      <td>101.054759</td>\n",
       "      <td>21.000000</td>\n",
       "      <td>-59</td>\n",
       "    </tr>\n",
       "  </tbody>\n",
       "</table>\n",
       "</div>"
      ],
      "text/plain": [
       "           loc_x       loc_y  rss\n",
       "0     169.952433  261.000000  -57\n",
       "270    50.104443  218.346221  -45\n",
       "341   289.000000  207.736170  -57\n",
       "3791  101.054759   21.000000  -59"
      ]
     },
     "execution_count": 6,
     "metadata": {},
     "output_type": "execute_result"
    }
   ],
   "source": [
    "gtdf.iloc[[0,270,-5000,-1550],:]"
   ]
  },
  {
   "cell_type": "code",
   "execution_count": 7,
   "metadata": {},
   "outputs": [
    {
     "data": {
      "text/plain": [
       "10      241.672864\n",
       "2700     81.949460\n",
       "5330     19.377766\n",
       "2640    496.991640\n",
       "Name: rss, dtype: float64"
      ]
     },
     "execution_count": 7,
     "metadata": {},
     "output_type": "execute_result"
    }
   ],
   "source": [
    "ds.iloc[[10,2700,-11,-2701]]"
   ]
  },
  {
   "cell_type": "code",
   "execution_count": 8,
   "metadata": {},
   "outputs": [
    {
     "name": "stdout",
     "output_type": "stream",
     "text": [
      "location of AP: (6288.691339727843,-21818.35741236306)\n"
     ]
    }
   ],
   "source": [
    "x1, x2, y1, y2 = gtdf.loc_x.iloc[10], gtdf.loc_x.iloc[-11], gtdf.loc_y.iloc[10], gtdf.loc_y.iloc[-11]\n",
    "x3, x4, y3, y4 = gtdf.loc_x.iloc[2700], gtdf.loc_x.iloc[-2701], gtdf.loc_y.iloc[2700], gtdf.loc_y.iloc[-2701]\n",
    "d1, d2, d3, d4 = ds.iloc[10],ds.iloc[-11],ds.iloc[2700],ds.iloc[-2701]\n",
    "a = np.array([[2*(x2-x1),2*(x4-x3)],[2*(y2-y1),2*(y4-y3)]])\n",
    "b = np.array([d1**2-d2**2-x1**2+x2**2-y1**2+y2**2, d3**2-d4**2-x3**2+x4**2-y3**2+y4**2])\n",
    "xt,yt = np.linalg.solve(a,b)\n",
    "print(\"location of AP: ({},{})\".format(xt,yt))"
   ]
  },
  {
   "cell_type": "code",
   "execution_count": 9,
   "metadata": {},
   "outputs": [
    {
     "data": {
      "text/html": [
       "<div>\n",
       "<style scoped>\n",
       "    .dataframe tbody tr th:only-of-type {\n",
       "        vertical-align: middle;\n",
       "    }\n",
       "\n",
       "    .dataframe tbody tr th {\n",
       "        vertical-align: top;\n",
       "    }\n",
       "\n",
       "    .dataframe thead th {\n",
       "        text-align: right;\n",
       "    }\n",
       "</style>\n",
       "<table border=\"1\" class=\"dataframe\">\n",
       "  <thead>\n",
       "    <tr style=\"text-align: right;\">\n",
       "      <th></th>\n",
       "      <th>loc_x</th>\n",
       "      <th>loc_y</th>\n",
       "      <th>rss</th>\n",
       "    </tr>\n",
       "  </thead>\n",
       "  <tbody>\n",
       "    <tr>\n",
       "      <th>0</th>\n",
       "      <td>169.952433</td>\n",
       "      <td>261.0</td>\n",
       "      <td>-57</td>\n",
       "    </tr>\n",
       "    <tr>\n",
       "      <th>1</th>\n",
       "      <td>169.962440</td>\n",
       "      <td>261.0</td>\n",
       "      <td>-57</td>\n",
       "    </tr>\n",
       "    <tr>\n",
       "      <th>2</th>\n",
       "      <td>172.089242</td>\n",
       "      <td>261.0</td>\n",
       "      <td>-57</td>\n",
       "    </tr>\n",
       "    <tr>\n",
       "      <th>3</th>\n",
       "      <td>172.099658</td>\n",
       "      <td>261.0</td>\n",
       "      <td>-57</td>\n",
       "    </tr>\n",
       "    <tr>\n",
       "      <th>4</th>\n",
       "      <td>174.117874</td>\n",
       "      <td>261.0</td>\n",
       "      <td>-57</td>\n",
       "    </tr>\n",
       "  </tbody>\n",
       "</table>\n",
       "</div>"
      ],
      "text/plain": [
       "        loc_x  loc_y  rss\n",
       "0  169.952433  261.0  -57\n",
       "1  169.962440  261.0  -57\n",
       "2  172.089242  261.0  -57\n",
       "3  172.099658  261.0  -57\n",
       "4  174.117874  261.0  -57"
      ]
     },
     "execution_count": 9,
     "metadata": {},
     "output_type": "execute_result"
    }
   ],
   "source": [
    "gtdf.head()"
   ]
  },
  {
   "cell_type": "code",
   "execution_count": 10,
   "metadata": {},
   "outputs": [
    {
     "data": {
      "text/html": [
       "<div>\n",
       "<style scoped>\n",
       "    .dataframe tbody tr th:only-of-type {\n",
       "        vertical-align: middle;\n",
       "    }\n",
       "\n",
       "    .dataframe tbody tr th {\n",
       "        vertical-align: top;\n",
       "    }\n",
       "\n",
       "    .dataframe thead th {\n",
       "        text-align: right;\n",
       "    }\n",
       "</style>\n",
       "<table border=\"1\" class=\"dataframe\">\n",
       "  <thead>\n",
       "    <tr style=\"text-align: right;\">\n",
       "      <th></th>\n",
       "      <th>loc_x</th>\n",
       "      <th>loc_y</th>\n",
       "      <th>mac</th>\n",
       "      <th>rss</th>\n",
       "      <th>time</th>\n",
       "    </tr>\n",
       "  </thead>\n",
       "  <tbody>\n",
       "    <tr>\n",
       "      <th>0</th>\n",
       "      <td>165.0</td>\n",
       "      <td>117.515982</td>\n",
       "      <td>80:e6:50:1b:a7:80</td>\n",
       "      <td>-41</td>\n",
       "      <td>1.522977e+09</td>\n",
       "    </tr>\n",
       "    <tr>\n",
       "      <th>1</th>\n",
       "      <td>165.0</td>\n",
       "      <td>117.509990</td>\n",
       "      <td>80:e6:50:1b:a7:80</td>\n",
       "      <td>-41</td>\n",
       "      <td>1.522977e+09</td>\n",
       "    </tr>\n",
       "    <tr>\n",
       "      <th>2</th>\n",
       "      <td>165.0</td>\n",
       "      <td>117.503725</td>\n",
       "      <td>80:e6:50:1b:a7:80</td>\n",
       "      <td>-41</td>\n",
       "      <td>1.522977e+09</td>\n",
       "    </tr>\n",
       "    <tr>\n",
       "      <th>3</th>\n",
       "      <td>165.0</td>\n",
       "      <td>117.498012</td>\n",
       "      <td>80:e6:50:1b:a7:80</td>\n",
       "      <td>-41</td>\n",
       "      <td>1.522977e+09</td>\n",
       "    </tr>\n",
       "    <tr>\n",
       "      <th>4</th>\n",
       "      <td>165.0</td>\n",
       "      <td>117.479294</td>\n",
       "      <td>44:91:60:d3:d6:94</td>\n",
       "      <td>-53</td>\n",
       "      <td>1.522977e+09</td>\n",
       "    </tr>\n",
       "  </tbody>\n",
       "</table>\n",
       "</div>"
      ],
      "text/plain": [
       "   loc_x       loc_y                mac  rss          time\n",
       "0  165.0  117.515982  80:e6:50:1b:a7:80  -41  1.522977e+09\n",
       "1  165.0  117.509990  80:e6:50:1b:a7:80  -41  1.522977e+09\n",
       "2  165.0  117.503725  80:e6:50:1b:a7:80  -41  1.522977e+09\n",
       "3  165.0  117.498012  80:e6:50:1b:a7:80  -41  1.522977e+09\n",
       "4  165.0  117.479294  44:91:60:d3:d6:94  -53  1.522977e+09"
      ]
     },
     "execution_count": 10,
     "metadata": {},
     "output_type": "execute_result"
    }
   ],
   "source": [
    "pd.DataFrame(data).head()"
   ]
  },
  {
   "cell_type": "code",
   "execution_count": null,
   "metadata": {},
   "outputs": [],
   "source": []
  }
 ],
 "metadata": {
  "kernelspec": {
   "display_name": "Python 3",
   "language": "python",
   "name": "python3"
  },
  "language_info": {
   "codemirror_mode": {
    "name": "ipython",
    "version": 3
   },
   "file_extension": ".py",
   "mimetype": "text/x-python",
   "name": "python",
   "nbconvert_exporter": "python",
   "pygments_lexer": "ipython3",
   "version": "3.7.0"
  }
 },
 "nbformat": 4,
 "nbformat_minor": 2
}
